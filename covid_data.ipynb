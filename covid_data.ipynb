{
  "nbformat": 4,
  "nbformat_minor": 0,
  "metadata": {
    "colab": {
      "provenance": [],
      "authorship_tag": "ABX9TyPz3BRjs52fvuZGTrZSW5/U",
      "include_colab_link": true
    },
    "kernelspec": {
      "name": "python3",
      "display_name": "Python 3"
    },
    "language_info": {
      "name": "python"
    }
  },
  "cells": [
    {
      "cell_type": "markdown",
      "metadata": {
        "id": "view-in-github",
        "colab_type": "text"
      },
      "source": [
        "<a href=\"https://colab.research.google.com/github/saisantoshv3/covid-19-india/blob/main/covid_data.ipynb\" target=\"_parent\"><img src=\"https://colab.research.google.com/assets/colab-badge.svg\" alt=\"Open In Colab\"/></a>"
      ]
    },
    {
      "cell_type": "code",
      "execution_count": 1,
      "metadata": {
        "id": "yQRf7vjHehDs"
      },
      "outputs": [],
      "source": [
        "from google.colab import auth\n",
        "auth.authenticate_user()\n",
        "\n",
        "import gspread\n",
        "from google.auth import default\n",
        "creds, _ = default()\n",
        "\n",
        "gc = gspread.authorize(creds)\n",
        "\n",
        "wb = gc.open_by_key('1HNQ7jUsGF3DstePEEUQxxexM86iWvDTCuyxkTfrhmmg')\n",
        "S1=wb.worksheet('cases')\n",
        "\n",
        "# get_all_values gives a list of rows.\n",
        "rows = S1.get_all_values()\n",
        "\n",
        "\n",
        "# Convert to a DataFrame and render.\n",
        "import pandas as pd\n",
        "\n",
        "cases=pd.DataFrame.from_records(rows[1:],columns=rows[0])"
      ]
    },
    {
      "cell_type": "markdown",
      "source": [
        "#### Melting Cases Data"
      ],
      "metadata": {
        "id": "8RdtR8kuiurt"
      }
    },
    {
      "cell_type": "code",
      "source": [
        "columns=['date', 'Total Positive Cases', 'Number of Active cases','Total Recovered', 'Total Deaths', 'units']\n",
        "value=['Total Positive Cases', 'Number of Active cases','Total Recovered', 'Total Deaths']\n",
        "\n",
        "cases_op=pd.melt(cases,id_vars=['date'], value_vars=value, var_name='category' , value_name='value')\n",
        "\n",
        "\n",
        "print (cases_op.to_csv((\"cases.csv\"), index=False))"
      ],
      "metadata": {
        "colab": {
          "base_uri": "https://localhost:8080/"
        },
        "id": "6MFWUsDlfFIO",
        "outputId": "a09034ba-9b67-42f4-bb45-da7fb9d6ea70"
      },
      "execution_count": 2,
      "outputs": [
        {
          "output_type": "stream",
          "name": "stdout",
          "text": [
            "None\n"
          ]
        }
      ]
    },
    {
      "cell_type": "markdown",
      "source": [
        "#### Melting Tests Data"
      ],
      "metadata": {
        "id": "-sEh5AXJi1DA"
      }
    },
    {
      "cell_type": "code",
      "source": [
        "S2=wb.worksheet('tests')\n",
        "\n",
        "# get_all_values gives a list of rows.\n",
        "rows = S2.get_all_values()\n",
        "\n",
        "\n",
        "# Convert to a DataFrame and render.\n",
        "\n",
        "tests=pd.DataFrame.from_records(rows[1:],columns=rows[0])\n",
        "\n",
        "tests_op=pd.melt(tests,id_vars=['date'],value_vars=['Total Samples Tested', 'Number of Single Day Tests'],var_name='category',value_name='cases')\n",
        "\n",
        "print(tests_op.to_csv(\"tests.csv\", index=False ))"
      ],
      "metadata": {
        "colab": {
          "base_uri": "https://localhost:8080/"
        },
        "id": "h65VbpKtfSsO",
        "outputId": "2adff697-2654-40c8-95b2-b5e6444d887a"
      },
      "execution_count": 3,
      "outputs": [
        {
          "output_type": "stream",
          "name": "stdout",
          "text": [
            "None\n"
          ]
        }
      ]
    },
    {
      "cell_type": "markdown",
      "source": [
        "#### Melting Vaccination Data"
      ],
      "metadata": {
        "id": "lEt9Udx2i27q"
      }
    },
    {
      "cell_type": "code",
      "source": [
        "S3=wb.worksheet('vaccination')\n",
        "\n",
        "# get_all_values gives a list of rows.\n",
        "rows = S3.get_all_values()\n",
        "\n",
        "columns=['18+ Age 1st Dose', '18+ Age 24hr Vaccination','18+ Age 2nd Dose', '15-18 Age 1st Dose', '15-18 Age 2nd Dose']\n",
        "\n",
        "# Convert to a DataFrame and render.\n",
        "\n",
        "vaccination=pd.DataFrame.from_records(rows[1:],columns=rows[0])\n",
        "\n",
        "#val_var=['Total Samples Tested', 'Number of Single Day Tests', 'units']\n",
        "\n",
        "\n",
        "vaccination_op=pd.melt(vaccination, id_vars='date' ,  value_vars=columns , var_name='category', value_name='vaccination'  )\n",
        "\n",
        "\n",
        "print(vaccination_op.to_csv(\"vaccination.csv\", index=False) )"
      ],
      "metadata": {
        "colab": {
          "base_uri": "https://localhost:8080/"
        },
        "id": "i9MjoTw1fZnV",
        "outputId": "fb4a5a23-f50f-4eb3-918e-dc4e96fce46b"
      },
      "execution_count": 7,
      "outputs": [
        {
          "output_type": "stream",
          "name": "stdout",
          "text": [
            "None\n"
          ]
        }
      ]
    }
  ]
}